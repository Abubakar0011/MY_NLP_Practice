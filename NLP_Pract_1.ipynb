{
 "cells": [
  {
   "cell_type": "code",
   "execution_count": 68,
   "metadata": {},
   "outputs": [
    {
     "name": "stdout",
     "output_type": "stream",
     "text": [
      "Requirement already satisfied: nltk in /Users/abubakarsaddiq/opt/anaconda3/lib/python3.12/site-packages (3.8.1)\n",
      "Requirement already satisfied: click in /Users/abubakarsaddiq/opt/anaconda3/lib/python3.12/site-packages (from nltk) (8.1.7)\n",
      "Requirement already satisfied: joblib in /Users/abubakarsaddiq/opt/anaconda3/lib/python3.12/site-packages (from nltk) (1.4.2)\n",
      "Requirement already satisfied: regex>=2021.8.3 in /Users/abubakarsaddiq/opt/anaconda3/lib/python3.12/site-packages (from nltk) (2023.10.3)\n",
      "Requirement already satisfied: tqdm in /Users/abubakarsaddiq/opt/anaconda3/lib/python3.12/site-packages (from nltk) (4.66.4)\n",
      "Note: you may need to restart the kernel to use updated packages.\n"
     ]
    }
   ],
   "source": [
    "%pip install nltk"
   ]
  },
  {
   "cell_type": "code",
   "execution_count": 69,
   "metadata": {},
   "outputs": [
    {
     "name": "stderr",
     "output_type": "stream",
     "text": [
      "<>:1: SyntaxWarning: invalid escape sequence '\\-'\n",
      "<>:1: SyntaxWarning: invalid escape sequence '\\-'\n",
      "/var/folders/sh/gynb2lj96d7922pmjv2kbwjc0000gp/T/ipykernel_2872/1875282207.py:1: SyntaxWarning: invalid escape sequence '\\-'\n",
      "  paragraph = \"\"\"\n"
     ]
    }
   ],
   "source": [
    "paragraph = \"\"\"\n",
    "The following is sample text I used to practice special characters using keybr.com:\n",
    "\n",
    "112233445566778899 Saturn V rocket’s first stage carries 203,400 gallons (770,000 liters) of kerosene fuel and 318,000 gallons (1.2 million liters) of liquid oxygen needed for combustion. At liftoff, the stage’s five F-1 rocket engines ignite and produce 7.5 million pounds of thrust.\n",
    "\n",
    "//// 1111 ^^^^ 2222 — — 3333 !!!! 4444 &&&& 5555 %%%% 6666 ???? 7777\n",
    "\n",
    "To replace those goofy quantities with the far less retarded metric system (even though liters are considered part of the metric system they are the same as cubic deci-meters) you would say 770 cubic meters of kerosene {abbreviated as m3} and 1,204 m3 of liquid O2 [O2 is the symbol for oxygen]. We would also say it produced 33,600,000 newtons of force <abbreviated as N>.\n",
    "\n",
    "— — 3333 ~~~~ 9999 :::: 8888 ;;;; 6776 ```` 2332 ‘’’’ 3323 “””” 4343 @@@@\n",
    "\n",
    "To add scientific notation {a way of writing numbers that allows you to write only as many digits `of specificity` as you would like} you can write 7.7 * 10 ^ 2 m3 of kerosene 1.204 * 10 ^ 3 m3 of O2 and 3.3 * 10 ^ 7 newtons.\n",
    "\n",
    "<<<< >>>> {{{{ }}}} (((( )))) [[[[ ]]]]\n",
    "\n",
    "Another way to write scientific notation is to replace the “* 10 ^” with ‘E’ -/capital e\\-. So our numbers would look like:s\n",
    "\"\"\""
   ]
  },
  {
   "cell_type": "code",
   "execution_count": 70,
   "metadata": {},
   "outputs": [],
   "source": [
    "import nltk\n",
    "from nltk.stem import PorterStemmer\n",
    "from nltk.corpus import stopwords"
   ]
  },
  {
   "cell_type": "code",
   "execution_count": 71,
   "metadata": {},
   "outputs": [
    {
     "name": "stderr",
     "output_type": "stream",
     "text": [
      "[nltk_data] Downloading package punkt to\n",
      "[nltk_data]     /Users/abubakarsaddiq/nltk_data...\n",
      "[nltk_data]   Package punkt is already up-to-date!\n"
     ]
    }
   ],
   "source": [
    "### Tokanization\n",
    "\n",
    "nltk.download('punkt')\n",
    "sentences = nltk.sent_tokenize(paragraph)"
   ]
  },
  {
   "cell_type": "code",
   "execution_count": 72,
   "metadata": {},
   "outputs": [],
   "source": [
    "stemer = PorterStemmer()"
   ]
  },
  {
   "cell_type": "code",
   "execution_count": 73,
   "metadata": {},
   "outputs": [
    {
     "data": {
      "text/plain": [
       "'histori'"
      ]
     },
     "execution_count": 73,
     "metadata": {},
     "output_type": "execute_result"
    }
   ],
   "source": [
    "stemer.stem('history')"
   ]
  },
  {
   "cell_type": "code",
   "execution_count": 74,
   "metadata": {},
   "outputs": [],
   "source": [
    "from nltk.stem import WordNetLemmatizer"
   ]
  },
  {
   "cell_type": "code",
   "execution_count": 75,
   "metadata": {},
   "outputs": [],
   "source": [
    "lematizer = WordNetLemmatizer()"
   ]
  },
  {
   "cell_type": "code",
   "execution_count": 76,
   "metadata": {},
   "outputs": [
    {
     "name": "stderr",
     "output_type": "stream",
     "text": [
      "[nltk_data] Downloading package wordnet to\n",
      "[nltk_data]     /Users/abubakarsaddiq/nltk_data...\n",
      "[nltk_data]   Package wordnet is already up-to-date!\n"
     ]
    },
    {
     "data": {
      "text/plain": [
       "'history'"
      ]
     },
     "execution_count": 76,
     "metadata": {},
     "output_type": "execute_result"
    }
   ],
   "source": [
    "nltk.download('wordnet')\n",
    "lematizer.lemmatize('history')"
   ]
  },
  {
   "cell_type": "code",
   "execution_count": 77,
   "metadata": {},
   "outputs": [],
   "source": [
    "import re"
   ]
  },
  {
   "cell_type": "code",
   "execution_count": 78,
   "metadata": {},
   "outputs": [
    {
     "data": {
      "text/plain": [
       "11"
      ]
     },
     "execution_count": 78,
     "metadata": {},
     "output_type": "execute_result"
    }
   ],
   "source": [
    "len(sentences)"
   ]
  },
  {
   "cell_type": "code",
   "execution_count": 79,
   "metadata": {},
   "outputs": [],
   "source": [
    "corpus = []\n",
    "for i in range(len(sentences)):\n",
    "    review = re.sub('[^a-zA-Z]',' ', sentences[i])\n",
    "    review = review.lower()\n",
    "    corpus.append(review)\n"
   ]
  },
  {
   "cell_type": "code",
   "execution_count": 80,
   "metadata": {},
   "outputs": [
    {
     "data": {
      "text/plain": [
       "[' the following is sample text i used to practice special characters using keybr com                      saturn v rocket s first stage carries         gallons          liters  of kerosene fuel and         gallons      million liters  of liquid oxygen needed for combustion ',\n",
       " 'at liftoff  the stage s five f   rocket engines ignite and produce     million pounds of thrust ',\n",
       " '                              ',\n",
       " '   ',\n",
       " '                          ',\n",
       " '   ',\n",
       " '      to replace those goofy quantities with the far less retarded metric system  even though liters are considered part of the metric system they are the same as cubic deci meters  you would say     cubic meters of kerosene  abbreviated as m   and       m  of liquid o   o  is the symbol for oxygen  ',\n",
       " 'we would also say it produced            newtons of force  abbreviated as n  ',\n",
       " '                                                                           to add scientific notation  a way of writing numbers that allows you to write only as many digits  of specificity  as you would like  you can write              m  of kerosene                m  of o  and              newtons ',\n",
       " '                                         another way to write scientific notation is to replace the          with  e    capital e   ',\n",
       " 'so our numbers would look like s']"
      ]
     },
     "execution_count": 80,
     "metadata": {},
     "output_type": "execute_result"
    }
   ],
   "source": [
    "corpus"
   ]
  },
  {
   "cell_type": "code",
   "execution_count": 81,
   "metadata": {},
   "outputs": [
    {
     "name": "stdout",
     "output_type": "stream",
     "text": [
      "follow\n",
      "sampl\n",
      "text\n",
      "use\n",
      "practic\n",
      "special\n",
      "charact\n",
      "use\n",
      "keybr\n",
      "com\n",
      "saturn\n",
      "v\n",
      "rocket\n",
      "first\n",
      "stage\n",
      "carri\n",
      "gallon\n",
      "liter\n",
      "kerosen\n",
      "fuel\n",
      "gallon\n",
      "million\n",
      "liter\n",
      "liquid\n",
      "oxygen\n",
      "need\n",
      "combust\n",
      "liftoff\n",
      "stage\n",
      "five\n",
      "f\n",
      "rocket\n",
      "engin\n",
      "ignit\n",
      "produc\n",
      "million\n",
      "pound\n",
      "thrust\n",
      "replac\n",
      "goofi\n",
      "quantiti\n",
      "far\n",
      "less\n",
      "retard\n",
      "metric\n",
      "system\n",
      "even\n",
      "though\n",
      "liter\n",
      "consid\n",
      "part\n",
      "metric\n",
      "system\n",
      "cubic\n",
      "deci\n",
      "meter\n",
      "would\n",
      "say\n",
      "cubic\n",
      "meter\n",
      "kerosen\n",
      "abbrevi\n",
      "liquid\n",
      "symbol\n",
      "oxygen\n",
      "would\n",
      "also\n",
      "say\n",
      "produc\n",
      "newton\n",
      "forc\n",
      "abbrevi\n",
      "n\n",
      "add\n",
      "scientif\n",
      "notat\n",
      "way\n",
      "write\n",
      "number\n",
      "allow\n",
      "write\n",
      "mani\n",
      "digit\n",
      "specif\n",
      "would\n",
      "like\n",
      "write\n",
      "kerosen\n",
      "newton\n",
      "anoth\n",
      "way\n",
      "write\n",
      "scientif\n",
      "notat\n",
      "replac\n",
      "e\n",
      "capit\n",
      "e\n",
      "number\n",
      "would\n",
      "look\n",
      "like\n"
     ]
    },
    {
     "name": "stderr",
     "output_type": "stream",
     "text": [
      "[nltk_data] Downloading package stopwords to\n",
      "[nltk_data]     /Users/abubakarsaddiq/nltk_data...\n",
      "[nltk_data]   Package stopwords is already up-to-date!\n"
     ]
    }
   ],
   "source": [
    "### Stemming\n",
    "nltk.download('stopwords')\n",
    "for i in corpus:\n",
    "    words = nltk.word_tokenize(i)\n",
    "    for word in words:\n",
    "        if word not in set(stopwords.words('english')):\n",
    "            print(stemer.stem(word))\n",
    "        \n"
   ]
  },
  {
   "cell_type": "code",
   "execution_count": 82,
   "metadata": {},
   "outputs": [
    {
     "name": "stdout",
     "output_type": "stream",
     "text": [
      "following\n",
      "sample\n",
      "text\n",
      "used\n",
      "practice\n",
      "special\n",
      "character\n",
      "using\n",
      "keybr\n",
      "com\n",
      "saturn\n",
      "v\n",
      "rocket\n",
      "first\n",
      "stage\n",
      "carry\n",
      "gallon\n",
      "liter\n",
      "kerosene\n",
      "fuel\n",
      "gallon\n",
      "million\n",
      "liter\n",
      "liquid\n",
      "oxygen\n",
      "needed\n",
      "combustion\n",
      "liftoff\n",
      "stage\n",
      "five\n",
      "f\n",
      "rocket\n",
      "engine\n",
      "ignite\n",
      "produce\n",
      "million\n",
      "pound\n",
      "thrust\n",
      "replace\n",
      "goofy\n",
      "quantity\n",
      "far\n",
      "le\n",
      "retarded\n",
      "metric\n",
      "system\n",
      "even\n",
      "though\n",
      "liter\n",
      "considered\n",
      "part\n",
      "metric\n",
      "system\n",
      "cubic\n",
      "deci\n",
      "meter\n",
      "would\n",
      "say\n",
      "cubic\n",
      "meter\n",
      "kerosene\n",
      "abbreviated\n",
      "liquid\n",
      "symbol\n",
      "oxygen\n",
      "would\n",
      "also\n",
      "say\n",
      "produced\n",
      "newton\n",
      "force\n",
      "abbreviated\n",
      "n\n",
      "add\n",
      "scientific\n",
      "notation\n",
      "way\n",
      "writing\n",
      "number\n",
      "allows\n",
      "write\n",
      "many\n",
      "digit\n",
      "specificity\n",
      "would\n",
      "like\n",
      "write\n",
      "kerosene\n",
      "newton\n",
      "another\n",
      "way\n",
      "write\n",
      "scientific\n",
      "notation\n",
      "replace\n",
      "e\n",
      "capital\n",
      "e\n",
      "number\n",
      "would\n",
      "look\n",
      "like\n"
     ]
    }
   ],
   "source": [
    "### lemmatization\n",
    "for i in corpus:\n",
    "    words = nltk.word_tokenize(i)\n",
    "    for word in words:\n",
    "        if word not in set(stopwords.words('english')):\n",
    "            print(lematizer.lemmatize(word))"
   ]
  },
  {
   "cell_type": "code",
   "execution_count": 83,
   "metadata": {},
   "outputs": [],
   "source": [
    "## Applying stpword and lemmatization\n",
    "import re\n",
    "corpus = []\n",
    "for i in range(len(sentences)):\n",
    "    review = re.sub('[^a-zA-Z]',' ', sentences[i])\n",
    "    review = review.lower()\n",
    "    review = review.split()\n",
    "    review = [lematizer.lemmatize(word) for word in review if word not in set(stopwords.words('english'))]\n",
    "    review =' '.join(review)\n",
    "    corpus.append(review)"
   ]
  },
  {
   "cell_type": "code",
   "execution_count": 84,
   "metadata": {},
   "outputs": [],
   "source": [
    "from sklearn.feature_extraction.text import CountVectorizer"
   ]
  },
  {
   "cell_type": "code",
   "execution_count": 85,
   "metadata": {},
   "outputs": [],
   "source": [
    "cv = CountVectorizer()"
   ]
  },
  {
   "cell_type": "code",
   "execution_count": 86,
   "metadata": {},
   "outputs": [],
   "source": [
    "X = cv.fit_transform(corpus)"
   ]
  },
  {
   "cell_type": "code",
   "execution_count": 87,
   "metadata": {},
   "outputs": [
    {
     "data": {
      "text/plain": [
       "{'following': 19,\n",
       " 'sample': 51,\n",
       " 'text': 60,\n",
       " 'used': 63,\n",
       " 'practice': 44,\n",
       " 'special': 55,\n",
       " 'character': 7,\n",
       " 'using': 64,\n",
       " 'keybr': 26,\n",
       " 'com': 8,\n",
       " 'saturn': 52,\n",
       " 'rocket': 50,\n",
       " 'first': 17,\n",
       " 'stage': 57,\n",
       " 'carry': 6,\n",
       " 'gallon': 22,\n",
       " 'liter': 31,\n",
       " 'kerosene': 25,\n",
       " 'fuel': 21,\n",
       " 'million': 36,\n",
       " 'liquid': 30,\n",
       " 'oxygen': 41,\n",
       " 'needed': 37,\n",
       " 'combustion': 9,\n",
       " 'liftoff': 28,\n",
       " 'five': 18,\n",
       " 'engine': 14,\n",
       " 'ignite': 24,\n",
       " 'produce': 45,\n",
       " 'pound': 43,\n",
       " 'thrust': 62,\n",
       " 'replace': 48,\n",
       " 'goofy': 23,\n",
       " 'quantity': 47,\n",
       " 'far': 16,\n",
       " 'le': 27,\n",
       " 'retarded': 49,\n",
       " 'metric': 35,\n",
       " 'system': 59,\n",
       " 'even': 15,\n",
       " 'though': 61,\n",
       " 'considered': 10,\n",
       " 'part': 42,\n",
       " 'cubic': 11,\n",
       " 'deci': 12,\n",
       " 'meter': 34,\n",
       " 'would': 66,\n",
       " 'say': 53,\n",
       " 'abbreviated': 0,\n",
       " 'symbol': 58,\n",
       " 'also': 3,\n",
       " 'produced': 46,\n",
       " 'newton': 38,\n",
       " 'force': 20,\n",
       " 'add': 1,\n",
       " 'scientific': 54,\n",
       " 'notation': 39,\n",
       " 'way': 65,\n",
       " 'writing': 68,\n",
       " 'number': 40,\n",
       " 'allows': 2,\n",
       " 'write': 67,\n",
       " 'many': 33,\n",
       " 'digit': 13,\n",
       " 'specificity': 56,\n",
       " 'like': 29,\n",
       " 'another': 4,\n",
       " 'capital': 5,\n",
       " 'look': 32}"
      ]
     },
     "execution_count": 87,
     "metadata": {},
     "output_type": "execute_result"
    }
   ],
   "source": [
    "cv.vocabulary_"
   ]
  },
  {
   "cell_type": "code",
   "execution_count": 88,
   "metadata": {},
   "outputs": [
    {
     "data": {
      "text/plain": [
       "'following sample text used practice special character using keybr com saturn v rocket first stage carry gallon liter kerosene fuel gallon million liter liquid oxygen needed combustion'"
      ]
     },
     "execution_count": 88,
     "metadata": {},
     "output_type": "execute_result"
    }
   ],
   "source": [
    "corpus[0]"
   ]
  },
  {
   "cell_type": "code",
   "execution_count": 89,
   "metadata": {},
   "outputs": [
    {
     "data": {
      "text/plain": [
       "array([[0, 0, 0, 0, 0, 0, 1, 1, 1, 1, 0, 0, 0, 0, 0, 0, 0, 1, 0, 1, 0, 1,\n",
       "        2, 0, 0, 1, 1, 0, 0, 0, 1, 2, 0, 0, 0, 0, 1, 1, 0, 0, 0, 1, 0, 0,\n",
       "        1, 0, 0, 0, 0, 0, 1, 1, 1, 0, 0, 1, 0, 1, 0, 0, 1, 0, 0, 1, 1, 0,\n",
       "        0, 0, 0]])"
      ]
     },
     "execution_count": 89,
     "metadata": {},
     "output_type": "execute_result"
    }
   ],
   "source": [
    "X[0].toarray()"
   ]
  },
  {
   "cell_type": "code",
   "execution_count": null,
   "metadata": {},
   "outputs": [],
   "source": []
  }
 ],
 "metadata": {
  "kernelspec": {
   "display_name": "Python 3",
   "language": "python",
   "name": "python3"
  },
  "language_info": {
   "codemirror_mode": {
    "name": "ipython",
    "version": 3
   },
   "file_extension": ".py",
   "mimetype": "text/x-python",
   "name": "python",
   "nbconvert_exporter": "python",
   "pygments_lexer": "ipython3",
   "version": "3.12.4"
  }
 },
 "nbformat": 4,
 "nbformat_minor": 2
}
